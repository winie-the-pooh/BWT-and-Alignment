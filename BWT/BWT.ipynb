{
 "cells": [
  {
   "cell_type": "markdown",
   "metadata": {},
   "source": [
    "# Burrows-Wheeler Transform \n",
    "\n",
    "1. BWT \n",
    "2. deBWT\n",
    "3. BWT_compress\n",
    "4. BWT_countlist"
   ]
  },
  {
   "cell_type": "code",
   "execution_count": 2,
   "metadata": {
    "ExecuteTime": {
     "end_time": "2021-06-01T23:35:48.522936Z",
     "start_time": "2021-06-01T23:35:48.512292Z"
    }
   },
   "outputs": [],
   "source": [
    "import sys\n",
    "import string\n",
    "import random"
   ]
  },
  {
   "cell_type": "code",
   "execution_count": 11,
   "metadata": {
    "ExecuteTime": {
     "end_time": "2021-06-01T23:41:01.312137Z",
     "start_time": "2021-06-01T23:41:01.293082Z"
    }
   },
   "outputs": [],
   "source": [
    "# string to BWT\n",
    "# the input can't be longer than 1000000\n",
    "def BWT(s='BANANA'):\n",
    "#     MAX_LEN = 1000000\n",
    "#     if len(s) > MAX_LEN:\n",
    "#         raise Exception(\n",
    "#             'string too long, abandom executing BWT. Length: ' + len(s))\n",
    "\n",
    "    s = '$' + s\n",
    "    matrix = [s]\n",
    "    for i in range(len(s)-1):\n",
    "        s = s[1:] + s[0]\n",
    "        matrix.append(s)\n",
    "    matrix = sorted(matrix)\n",
    "\n",
    "#     for m in matrix:\n",
    "#         print(m)\n",
    "\n",
    "    bwt_L = ''.join([m[-1] for m in matrix])\n",
    "    bwt_F = ''.join([m[0] for m in matrix])\n",
    "\n",
    "    # get index dict\n",
    "    index_F = {}\n",
    "    curr_letter = ''\n",
    "    count = 0\n",
    "    begin_idx = 0\n",
    "    for idx in range(len(bwt_F)):\n",
    "        letter = bwt_F[idx]\n",
    "        if curr_letter != letter:\n",
    "            # new letter, flush\n",
    "            if count != 0:\n",
    "                index_F[curr_letter] = (begin_idx, count)\n",
    "                count = 0\n",
    "                begin_idx = idx\n",
    "            curr_letter = letter\n",
    "        count += 1\n",
    "    # flush the last one\n",
    "    if count != 0:\n",
    "        index_F[curr_letter] = (begin_idx, count)\n",
    "\n",
    "    # get rank_L\n",
    "    d = {}\n",
    "    rank_L = []\n",
    "    for letter in bwt_L:\n",
    "        if letter not in d:\n",
    "            d[letter] = 0\n",
    "            rank_L.append(0)\n",
    "        else:  # not first time\n",
    "            d[letter] += 1\n",
    "            rank_L.append(d[letter])\n",
    "\n",
    "    return bwt_F, bwt_L, index_F, rank_L"
   ]
  },
  {
   "cell_type": "code",
   "execution_count": 12,
   "metadata": {
    "ExecuteTime": {
     "end_time": "2021-06-01T23:41:01.613540Z",
     "start_time": "2021-06-01T23:41:01.608183Z"
    }
   },
   "outputs": [
    {
     "name": "stdout",
     "output_type": "stream",
     "text": [
      "('$aaaabb', 'abba$aa', {'$': (0, 1), 'a': (1, 4), 'b': (5, 2)}, [0, 0, 1, 1, 0, 2, 3])\n"
     ]
    }
   ],
   "source": [
    "print(BWT('abaaba'))"
   ]
  },
  {
   "cell_type": "code",
   "execution_count": 13,
   "metadata": {
    "ExecuteTime": {
     "end_time": "2021-06-01T23:41:02.300984Z",
     "start_time": "2021-06-01T23:41:02.296473Z"
    }
   },
   "outputs": [
    {
     "data": {
      "text/plain": [
       "'wwddw  nnoooaatttmmmrrrrrrooo$  ooo'"
      ]
     },
     "execution_count": 13,
     "metadata": {},
     "output_type": "execute_result"
    }
   ],
   "source": [
    "BWT('tomorrow and tomorrow and tomorrow')[1]"
   ]
  },
  {
   "cell_type": "code",
   "execution_count": 21,
   "metadata": {
    "ExecuteTime": {
     "end_time": "2021-05-16T02:01:22.096694Z",
     "start_time": "2021-05-16T02:01:22.086324Z"
    }
   },
   "outputs": [],
   "source": [
    "# decompress a bwt string using LF mapping\n",
    "def BWT_decomp(bwt_F = '$aaaabb', bwt_L = 'abba$aa'):\n",
    "    # re-rank\n",
    "    d = {}\n",
    "    rank_L = []\n",
    "    for letter in bwt_L:\n",
    "        if letter not in d:\n",
    "            d[letter] = 0\n",
    "            rank_L.append(0)\n",
    "        else: # not first time\n",
    "            d[letter] += 1\n",
    "            rank_L.append(d[letter])\n",
    "    d = {}\n",
    "    rank_F = []\n",
    "    for letter in bwt_F:\n",
    "        if letter not in d:\n",
    "            d[letter] = 0\n",
    "            rank_F.append(0)\n",
    "        else: # not first time\n",
    "            d[letter] += 1\n",
    "            rank_F.append(d[letter])\n",
    "    # find decomp\n",
    "    decomp_str = ['$']\n",
    "    idx_curr = bwt_F.index('$')\n",
    "#     idx_L = bwt_L.index('$')\n",
    "    letter_curr = '$'\n",
    "    rank_curr = rank_F[idx_curr]\n",
    "    for i in range(len(bwt_L)-1):\n",
    "        # find the next i\n",
    "        for idx in range(len(bwt_L)):\n",
    "            if bwt_L[idx] == letter_curr and rank_L[idx] == rank_curr:\n",
    "                idx_curr = idx\n",
    "                break\n",
    "        letter_curr = bwt_F[idx_curr]\n",
    "        rank_curr = rank_F[idx_curr]\n",
    "        decomp_str.append(letter_curr)\n",
    "    return ''.join(decomp_str)"
   ]
  },
  {
   "cell_type": "code",
   "execution_count": 45,
   "metadata": {
    "ExecuteTime": {
     "end_time": "2021-05-17T23:30:38.957815Z",
     "start_time": "2021-05-17T23:30:38.298565Z"
    }
   },
   "outputs": [],
   "source": [
    "# test code\n",
    "for i in range(1000):\n",
    "    l = 100\n",
    "    letters = string.ascii_lowercase\n",
    "    s = ''.join(random.choice(letters) for i in range(l)) \n",
    "    tmp_F, tmp_L,_,_ = BWT(s)\n",
    "    if BWT_decomp(tmp_F, tmp_L )[1:] != s:\n",
    "        raise Exception(s)\n",
    "\n",
    "\n",
    "\n",
    "tmp_F, tmp_L,_,_ = BWT(\"tomorrow and tomorrow and tomorrow\")\n",
    "# print(tmp_F)\n",
    "# print(tmp_L)"
   ]
  },
  {
   "cell_type": "markdown",
   "metadata": {},
   "source": [
    "## Strict Search in BWT"
   ]
  },
  {
   "cell_type": "code",
   "execution_count": 72,
   "metadata": {
    "ExecuteTime": {
     "end_time": "2021-05-18T00:25:32.628303Z",
     "start_time": "2021-05-18T00:25:32.618114Z"
    }
   },
   "outputs": [],
   "source": [
    "def strict_search_BWT(target, BWT_F, BWT_L, index_F, rank_L):\n",
    "    \"\"\"\n",
    "    This algorithm only gives the beginning index at BWT_L instead of the original string.\n",
    "    If we want to know the exact idx at original string, it's O(len(reference)) and use another algorithm.\n",
    "    \"\"\"\n",
    "    # check if target has unseen letter:\n",
    "    for i in range(len(target)):\n",
    "        c = target[i]\n",
    "        if c not in index_F:\n",
    "            print(\"target has unseen letter for BWT string. Unseen letter: \" + str(c) + \" at Index: \" + str(i))\n",
    "            return 0\n",
    "    offset = index_F[target[-1]][0]\n",
    "    # index at BWT_F that match\n",
    "    possible_idx = [i+offset for i in range(index_F[target[-1]][1])]\n",
    "    # get all that matches target, idx is in BWT_F\n",
    "    for i in range(len(target)-1):\n",
    "        idx = len(target) - 1 - i\n",
    "        letter_curr = target[idx]\n",
    "        letter_prev = target[idx-1]\n",
    "        possible_update = []\n",
    "        # get ones still satisfy\n",
    "        for j in possible_idx:\n",
    "            # not satisfy\n",
    "            if letter_curr != BWT_F[j] or letter_prev != BWT_L[j]:\n",
    "                continue\n",
    "            else:  # satisty\n",
    "                possible_update.append(rank_L[j])\n",
    "        # update possible_idx\n",
    "        offset = index_F[letter_prev][0]\n",
    "        possible_idx = [offset+t for t in possible_update]\n",
    "    return possible_idx\n",
    "    \n",
    "    "
   ]
  },
  {
   "cell_type": "code",
   "execution_count": 73,
   "metadata": {
    "ExecuteTime": {
     "end_time": "2021-05-18T00:25:33.246838Z",
     "start_time": "2021-05-18T00:25:33.240743Z"
    }
   },
   "outputs": [
    {
     "name": "stdout",
     "output_type": "stream",
     "text": [
      "('$aaaabb', 'abba$aa', {'$': (0, 1), 'a': (1, 4), 'b': (5, 2)}, [0, 0, 1, 1, 0, 2, 3])\n"
     ]
    }
   ],
   "source": [
    "print(BWT('abaaba'))"
   ]
  },
  {
   "cell_type": "code",
   "execution_count": 74,
   "metadata": {
    "ExecuteTime": {
     "end_time": "2021-05-18T00:25:33.858905Z",
     "start_time": "2021-05-18T00:25:33.851208Z"
    }
   },
   "outputs": [
    {
     "name": "stdout",
     "output_type": "stream",
     "text": [
      "target has unseen letter for BWT string. Unseen letter: s at Index: 4\n"
     ]
    },
    {
     "data": {
      "text/plain": [
       "0"
      ]
     },
     "execution_count": 74,
     "metadata": {},
     "output_type": "execute_result"
    }
   ],
   "source": [
    "strict_search_BWT('abaas', '$aaaabb', 'abba$aa', {'$': (0, 1), 'a': (1, 4), 'b': (5, 2)}, [0, 0, 1, 1, 0, 2, 3])"
   ]
  },
  {
   "cell_type": "code",
   "execution_count": 16,
   "metadata": {
    "ExecuteTime": {
     "end_time": "2021-06-01T23:55:57.143355Z",
     "start_time": "2021-06-01T23:55:57.136781Z"
    }
   },
   "outputs": [
    {
     "data": {
      "text/plain": [
       "97"
      ]
     },
     "execution_count": 16,
     "metadata": {},
     "output_type": "execute_result"
    }
   ],
   "source": [
    "s"
   ]
  },
  {
   "cell_type": "markdown",
   "metadata": {},
   "source": [
    "## Time complexity test\n",
    "### 1. BWT Test"
   ]
  },
  {
   "cell_type": "code",
   "execution_count": 27,
   "metadata": {
    "ExecuteTime": {
     "end_time": "2021-06-02T00:25:23.166613Z",
     "start_time": "2021-06-02T00:25:23.161289Z"
    }
   },
   "outputs": [
    {
     "name": "stdout",
     "output_type": "stream",
     "text": [
      "Time used: 9.084e-05 seconds\n"
     ]
    }
   ],
   "source": [
    "import time  # 引入time模块\n",
    "\n",
    "    \n",
    "seq = \"BANANA\"\n",
    "start_time = time.time()\n",
    "BWT(seq)\n",
    "time_used = format(time.time() - start_time, '.3e')\n",
    "print(\"Time used: \"+ time_used+\" seconds\")"
   ]
  },
  {
   "cell_type": "code",
   "execution_count": 39,
   "metadata": {
    "ExecuteTime": {
     "end_time": "2021-06-02T00:32:39.509951Z",
     "start_time": "2021-06-02T00:32:39.503536Z"
    }
   },
   "outputs": [],
   "source": [
    "import random\n",
    "\n",
    "def rand_seq(l):\n",
    "    alphabet = ['A','T','C','G']\n",
    "    return ''.join(random.choices(alphabet, k=l))\n",
    "rand_seq(10)\n",
    "\n",
    "def time_test_BWT(l):\n",
    "    seq = rand_seq(l)\n",
    "    start_time = time.time()\n",
    "    BWT(seq)\n",
    "    time_used = format(time.time() - start_time, '.3e')\n",
    "    print(\"Time used: \"+ time_used+\" seconds\")"
   ]
  },
  {
   "cell_type": "code",
   "execution_count": 37,
   "metadata": {
    "ExecuteTime": {
     "end_time": "2021-06-02T00:31:12.774879Z",
     "start_time": "2021-06-02T00:31:12.766234Z"
    }
   },
   "outputs": [
    {
     "data": {
      "text/plain": [
       "[1, 10, 100, 1000, 10000, 100000]"
      ]
     },
     "execution_count": 37,
     "metadata": {},
     "output_type": "execute_result"
    }
   ],
   "source": [
    "x = [10**i for i in range(6)]\n",
    "x"
   ]
  },
  {
   "cell_type": "code",
   "execution_count": 44,
   "metadata": {
    "ExecuteTime": {
     "end_time": "2021-06-02T00:33:17.200892Z",
     "start_time": "2021-06-02T00:33:17.159949Z"
    }
   },
   "outputs": [
    {
     "ename": "TypeError",
     "evalue": "can only concatenate str (not \"int\") to str",
     "output_type": "error",
     "traceback": [
      "\u001b[0;31m---------------------------------------------------------------------------\u001b[0m",
      "\u001b[0;31mTypeError\u001b[0m                                 Traceback (most recent call last)",
      "\u001b[0;32m<ipython-input-44-bea322ace415>\u001b[0m in \u001b[0;36m<module>\u001b[0;34m\u001b[0m\n\u001b[0;32m----> 1\u001b[0;31m \u001b[0mtime_test_BWT\u001b[0m\u001b[0;34m(\u001b[0m\u001b[0;36m100000\u001b[0m\u001b[0;34m)\u001b[0m\u001b[0;34m\u001b[0m\u001b[0;34m\u001b[0m\u001b[0m\n\u001b[0m",
      "\u001b[0;32m<ipython-input-39-f5a7a4acac9c>\u001b[0m in \u001b[0;36mtime_test_BWT\u001b[0;34m(l)\u001b[0m\n\u001b[1;32m      9\u001b[0m     \u001b[0mseq\u001b[0m \u001b[0;34m=\u001b[0m \u001b[0mrand_seq\u001b[0m\u001b[0;34m(\u001b[0m\u001b[0ml\u001b[0m\u001b[0;34m)\u001b[0m\u001b[0;34m\u001b[0m\u001b[0;34m\u001b[0m\u001b[0m\n\u001b[1;32m     10\u001b[0m     \u001b[0mstart_time\u001b[0m \u001b[0;34m=\u001b[0m \u001b[0mtime\u001b[0m\u001b[0;34m.\u001b[0m\u001b[0mtime\u001b[0m\u001b[0;34m(\u001b[0m\u001b[0;34m)\u001b[0m\u001b[0;34m\u001b[0m\u001b[0;34m\u001b[0m\u001b[0m\n\u001b[0;32m---> 11\u001b[0;31m     \u001b[0mBWT\u001b[0m\u001b[0;34m(\u001b[0m\u001b[0mseq\u001b[0m\u001b[0;34m)\u001b[0m\u001b[0;34m\u001b[0m\u001b[0;34m\u001b[0m\u001b[0m\n\u001b[0m\u001b[1;32m     12\u001b[0m     \u001b[0mtime_used\u001b[0m \u001b[0;34m=\u001b[0m \u001b[0mformat\u001b[0m\u001b[0;34m(\u001b[0m\u001b[0mtime\u001b[0m\u001b[0;34m.\u001b[0m\u001b[0mtime\u001b[0m\u001b[0;34m(\u001b[0m\u001b[0;34m)\u001b[0m \u001b[0;34m-\u001b[0m \u001b[0mstart_time\u001b[0m\u001b[0;34m,\u001b[0m \u001b[0;34m'.3e'\u001b[0m\u001b[0;34m)\u001b[0m\u001b[0;34m\u001b[0m\u001b[0;34m\u001b[0m\u001b[0m\n\u001b[1;32m     13\u001b[0m     \u001b[0mprint\u001b[0m\u001b[0;34m(\u001b[0m\u001b[0;34m\"Time used: \"\u001b[0m\u001b[0;34m+\u001b[0m \u001b[0mtime_used\u001b[0m\u001b[0;34m+\u001b[0m\u001b[0;34m\" seconds\"\u001b[0m\u001b[0;34m)\u001b[0m\u001b[0;34m\u001b[0m\u001b[0;34m\u001b[0m\u001b[0m\n",
      "\u001b[0;32m<ipython-input-11-97d998ec8b35>\u001b[0m in \u001b[0;36mBWT\u001b[0;34m(s)\u001b[0m\n\u001b[1;32m      5\u001b[0m     \u001b[0;32mif\u001b[0m \u001b[0mlen\u001b[0m\u001b[0;34m(\u001b[0m\u001b[0ms\u001b[0m\u001b[0;34m)\u001b[0m \u001b[0;34m>\u001b[0m \u001b[0mMAX_LEN\u001b[0m\u001b[0;34m:\u001b[0m\u001b[0;34m\u001b[0m\u001b[0;34m\u001b[0m\u001b[0m\n\u001b[1;32m      6\u001b[0m         raise Exception(\n\u001b[0;32m----> 7\u001b[0;31m             'string too long, abandom executing BWT. Length: ' + len(s))\n\u001b[0m\u001b[1;32m      8\u001b[0m \u001b[0;34m\u001b[0m\u001b[0m\n\u001b[1;32m      9\u001b[0m     \u001b[0ms\u001b[0m \u001b[0;34m=\u001b[0m \u001b[0;34m'$'\u001b[0m \u001b[0;34m+\u001b[0m \u001b[0ms\u001b[0m\u001b[0;34m\u001b[0m\u001b[0;34m\u001b[0m\u001b[0m\n",
      "\u001b[0;31mTypeError\u001b[0m: can only concatenate str (not \"int\") to str"
     ]
    }
   ],
   "source": [
    "time_test_BWT(100000)"
   ]
  },
  {
   "cell_type": "code",
   "execution_count": null,
   "metadata": {},
   "outputs": [],
   "source": []
  }
 ],
 "metadata": {
  "kernelspec": {
   "display_name": "Python 3",
   "language": "python",
   "name": "python3"
  },
  "language_info": {
   "codemirror_mode": {
    "name": "ipython",
    "version": 3
   },
   "file_extension": ".py",
   "mimetype": "text/x-python",
   "name": "python",
   "nbconvert_exporter": "python",
   "pygments_lexer": "ipython3",
   "version": "3.8.3"
  },
  "varInspector": {
   "cols": {
    "lenName": 16,
    "lenType": 16,
    "lenVar": 40
   },
   "kernels_config": {
    "python": {
     "delete_cmd_postfix": "",
     "delete_cmd_prefix": "del ",
     "library": "var_list.py",
     "varRefreshCmd": "print(var_dic_list())"
    },
    "r": {
     "delete_cmd_postfix": ") ",
     "delete_cmd_prefix": "rm(",
     "library": "var_list.r",
     "varRefreshCmd": "cat(var_dic_list()) "
    }
   },
   "oldHeight": 228,
   "position": {
    "height": "40px",
    "left": "865px",
    "right": "20px",
    "top": "34px",
    "width": "337px"
   },
   "types_to_exclude": [
    "module",
    "function",
    "builtin_function_or_method",
    "instance",
    "_Feature"
   ],
   "varInspector_section_display": "none",
   "window_display": false
  }
 },
 "nbformat": 4,
 "nbformat_minor": 4
}
